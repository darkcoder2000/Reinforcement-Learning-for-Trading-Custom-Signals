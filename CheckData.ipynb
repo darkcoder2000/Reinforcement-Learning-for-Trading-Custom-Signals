{
 "cells": [
  {
   "cell_type": "code",
   "execution_count": null,
   "id": "08290ff4-50e2-4ada-ab14-de84db43e243",
   "metadata": {},
   "outputs": [],
   "source": [
    "import numpy as np\n",
    "import pandas as pd\n",
    "from matplotlib import pyplot as plt"
   ]
  },
  {
   "cell_type": "code",
   "execution_count": null,
   "id": "c6d72f02-6c22-4e8e-bec3-5b073229c094",
   "metadata": {},
   "outputs": [],
   "source": [
    "df = pd.read_csv('data/Binance_ETHUSDT_minute.csv')\n",
    "\n",
    "df['date'] = pd.to_datetime(df['date'])\n",
    "df = df.drop(columns=['unix','symbol','Volume ETH'])\n",
    "df.rename(columns={'Volume USDT': 'volume'}, inplace=True)\n",
    "df.sort_values('date', ascending=True, inplace=True)\n",
    "#df.set_index('date', inplace=True)\n",
    "\n",
    "df.head(15)"
   ]
  },
  {
   "cell_type": "code",
   "execution_count": null,
   "id": "a1f5e3a9-1172-4593-a6b3-8946ab28a7c2",
   "metadata": {},
   "outputs": [],
   "source": [
    "df_graph = df.head(1000)\n",
    "df_graph = df[100000:200000]"
   ]
  },
  {
   "cell_type": "code",
   "execution_count": null,
   "id": "a00491a9-871d-4da3-ae2c-ae0a36485ffe",
   "metadata": {},
   "outputs": [],
   "source": [
    "# plotting the points\n",
    "plt.figure(figsize=(51, 15))\n",
    "plt.plot(df_graph['date'], df_graph['open'])\n",
    " \n",
    "# naming the x axis\n",
    "plt.xlabel('x - axis')\n",
    "# naming the y axis\n",
    "plt.ylabel('y - axis')\n",
    " \n",
    "# giving a title to my graph\n",
    "plt.title('My first graph!')\n",
    "\n",
    "plt.rcParams.update({'font.size': 22})\n",
    " \n",
    "# function to show the plot\n",
    "plt.show()"
   ]
  },
  {
   "cell_type": "code",
   "execution_count": null,
   "id": "93c84220-8d1d-4f6c-b537-10e2680baba4",
   "metadata": {},
   "outputs": [],
   "source": []
  }
 ],
 "metadata": {
  "kernelspec": {
   "display_name": "Python 3 (ipykernel)",
   "language": "python",
   "name": "python3"
  },
  "language_info": {
   "codemirror_mode": {
    "name": "ipython",
    "version": 3
   },
   "file_extension": ".py",
   "mimetype": "text/x-python",
   "name": "python",
   "nbconvert_exporter": "python",
   "pygments_lexer": "ipython3",
   "version": "3.7.11"
  }
 },
 "nbformat": 4,
 "nbformat_minor": 5
}
