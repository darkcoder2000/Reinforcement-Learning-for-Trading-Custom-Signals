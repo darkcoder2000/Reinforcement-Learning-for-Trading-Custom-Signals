{
 "cells": [
  {
   "cell_type": "code",
   "execution_count": null,
   "id": "bfe5e4d8-2cf0-42c9-8294-d0345cdf9f63",
   "metadata": {},
   "outputs": [],
   "source": [
    "import numpy as np\n",
    "import pandas as pd\n",
    "from matplotlib import pyplot as plt\n",
    "import datetime"
   ]
  },
  {
   "cell_type": "code",
   "execution_count": null,
   "id": "1743c45e-73be-4c4c-bff9-a78240859bfb",
   "metadata": {},
   "outputs": [],
   "source": [
    "df = pd.read_csv('data/Binance_ETHUSDT_minute.csv')\n",
    "#print(df.dtypes)\n",
    "df['date'] = pd.to_datetime(df['date'])\n",
    "#c = datetime.fromtimestamp(df['unix'])\n",
    "#df['date'] = c\n",
    "df.sort_values('date', ascending=True, inplace=True)\n",
    "\n",
    "df.head(15)"
   ]
  },
  {
   "cell_type": "code",
   "execution_count": null,
   "id": "3762fa26-7626-4f05-b10c-d7c3989f5212",
   "metadata": {
    "tags": []
   },
   "outputs": [],
   "source": [
    "def ConvertToHourData(df, hour_interval, fileName):\n",
    "    #get first row\n",
    "    row_start=df.iloc[0]\n",
    "    time_start = row_start['date']\n",
    "    #print(row_start)\n",
    "    \n",
    "    #get last row\n",
    "    row_end=df.iloc[-1]\n",
    "    time_end = row_end['date']\n",
    "    #print(row_end)\n",
    "    \n",
    "    df_hour_data = None\n",
    "    vol1_name = df.columns[7]\n",
    "    #print(vol1_name)\n",
    "    \n",
    "    \n",
    "    # define start/end timestamp for interation\n",
    "    hour_start = time_start.replace(minute=0)\n",
    "    hour_end = hour_start.replace(minute=0) + datetime.timedelta(hours=hour_interval)\n",
    "    \n",
    "    print(hour_start)\n",
    "    print(hour_end)\n",
    "    \n",
    "    while hour_start < time_end:\n",
    "        \n",
    "        # get data for defined interval\n",
    "        df_hour = df[(df['date'] >= hour_start) & (df['date'] < hour_end)]\n",
    "        #print(hour_start, hour_end)\n",
    "        if not df_hour.empty:          \n",
    "            \n",
    "            # calculate hour data\n",
    "            open = df_hour.iloc[0]['open']\n",
    "            high = df_hour['high'].max()\n",
    "            low = df_hour['low'].min()\n",
    "            close = df_hour.iloc[-1]['close']\n",
    "            vol1 = df_hour[vol1_name].sum()\n",
    "            vol2 = df_hour['Volume USDT'].sum()\n",
    "            tradecount = df_hour['tradecount'].sum()\n",
    "\n",
    "            # save hour data in data frame\n",
    "            if df_hour_data is None:\n",
    "                data = { 'date':[hour_start], 'symbol':[df_hour.iloc[0]['symbol']], 'open':[open], 'high':[high], 'low':[low], 'close':[close], vol1_name:[vol1], 'Volume USDT':[vol2], 'tradecount':[tradecount] }\n",
    "                df_hour_data = pd.DataFrame(data = data) \n",
    "            else:\n",
    "                data = { 'date':[hour_start], 'symbol':[df_hour.iloc[0]['symbol']], 'open':[open], 'high':[high], 'low':[low], 'close':[close], vol1_name:[vol1], 'Volume USDT':[vol2], 'tradecount':[tradecount] }        \n",
    "                temp = pd.DataFrame(data = data) \n",
    "                df_hour_data = df_hour_data.append(temp)\n",
    "\n",
    "            #print(df_hour_data.head(15))\n",
    "\n",
    "        #increase start/end timestamp for interation\n",
    "        hour_start = hour_start + datetime.timedelta(hours=hour_interval)\n",
    "        hour_end = hour_end + datetime.timedelta(hours=hour_interval)    \n",
    "        \n",
    "        #print(hour_start)\n",
    "        #print(hour_end)\n",
    "        \n",
    "    df_hour_data.set_index('date', inplace=True)\n",
    "    #print(df_hour_data.head(15))\n",
    "    df_hour_data.to_csv(fileName)   \n",
    "    \n",
    "    \n",
    "ConvertToHourData(df, 4, 'data/Binance_ETHUSDT_4h.csv')"
   ]
  },
  {
   "cell_type": "code",
   "execution_count": null,
   "id": "1bc7c101-42cc-4aae-a03a-1e2c206dc43e",
   "metadata": {},
   "outputs": [],
   "source": [
    "df.head()"
   ]
  },
  {
   "cell_type": "code",
   "execution_count": null,
   "id": "e9c9bba2-5880-416b-b80c-b7621bd7bd0a",
   "metadata": {},
   "outputs": [],
   "source": [
    "symbol = df.iat[0,2]\n",
    "print(symbol)\n",
    "index = symbol.find('/')\n",
    "symbol = symbol[0:index]\n",
    "print(symbol)"
   ]
  },
  {
   "cell_type": "code",
   "execution_count": null,
   "id": "344f9d60-2124-4aee-96f7-8d3fcdf0ae3c",
   "metadata": {},
   "outputs": [],
   "source": []
  }
 ],
 "metadata": {
  "kernelspec": {
   "display_name": "Python 3 (ipykernel)",
   "language": "python",
   "name": "python3"
  },
  "language_info": {
   "codemirror_mode": {
    "name": "ipython",
    "version": 3
   },
   "file_extension": ".py",
   "mimetype": "text/x-python",
   "name": "python",
   "nbconvert_exporter": "python",
   "pygments_lexer": "ipython3",
   "version": "3.7.11"
  }
 },
 "nbformat": 4,
 "nbformat_minor": 5
}
