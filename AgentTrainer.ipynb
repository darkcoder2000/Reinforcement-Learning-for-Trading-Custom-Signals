{
 "cells": [
  {
   "cell_type": "code",
   "execution_count": null,
   "id": "1e7713ef-71c5-467f-9e71-880100d89714",
   "metadata": {},
   "outputs": [],
   "source": [
    "#!pip install tensorflow-gpu==1.15.0 tensorflow==1.15.0 stable-baselines gym-anytrading-debug gym\n",
    "#!pip install finta"
   ]
  },
  {
   "cell_type": "code",
   "execution_count": null,
   "id": "ec28def6-2cdb-476d-bbff-7ffd80b33130",
   "metadata": {},
   "outputs": [],
   "source": [
    "# Gym stuff\n",
    "import gym\n",
    "import gym_anytrading_debug\n",
    "\n",
    "# Stable baselines - rl stuff\n",
    "from stable_baselines.common.vec_env import DummyVecEnv\n",
    "from stable_baselines import A2C\n",
    "\n",
    "# Processing libraries\n",
    "import numpy as np\n",
    "import pandas as pd\n",
    "from matplotlib import pyplot as plt\n",
    "\n",
    "import os\n",
    "import logging\n",
    "from gym_anytrading_debug.envs import MyStocksEnv\n",
    "from finta import TA"
   ]
  },
  {
   "cell_type": "markdown",
   "id": "92d25425-2068-4b76-97c9-dba1d802c52c",
   "metadata": {
    "tags": []
   },
   "source": [
    "# 1. Load data to train with\n",
    " Bring in Crypto ETH/USDT Data \n",
    "https://www.cryptodatadownload.com/data/binance/"
   ]
  },
  {
   "cell_type": "code",
   "execution_count": null,
   "id": "378d7ca7-b05b-4243-be80-bad9e7985fcd",
   "metadata": {},
   "outputs": [],
   "source": [
    "from csv_import_helper import *\n",
    "#df = import_csv_from_cryptodatadownload('data/Binance_ETHUSDT_d.csv')\n",
    "df = import_example_sin_data(2000)"
   ]
  },
  {
   "cell_type": "markdown",
   "id": "bf587a05-11de-4fd4-8a58-d38010ffce48",
   "metadata": {},
   "source": [
    "# 2. Build Environment"
   ]
  },
  {
   "cell_type": "code",
   "execution_count": null,
   "id": "2e5a041c-44cc-44fa-a66b-2f9a35257b7a",
   "metadata": {},
   "outputs": [],
   "source": [
    "nb_data_rows = len(df.index)\n",
    "print(nb_data_rows)\n",
    "window_size = 12"
   ]
  },
  {
   "cell_type": "code",
   "execution_count": null,
   "id": "da1bdd20-868e-4b9f-9631-f6816ae46932",
   "metadata": {},
   "outputs": [],
   "source": [
    "df[df.index.duplicated()]"
   ]
  },
  {
   "cell_type": "markdown",
   "id": "3a4068f9-7199-4a4b-ad98-769b38d5ba4f",
   "metadata": {},
   "source": [
    "## 2.1.3. Calculate custom indicators SMA, RSI and OBV"
   ]
  },
  {
   "cell_type": "code",
   "execution_count": null,
   "id": "1d1e37fa-2ff4-49ab-ab4b-17d6ce43709c",
   "metadata": {},
   "outputs": [],
   "source": [
    "df['SMA'] = TA.SMA(df, 12)\n",
    "df['RSI'] = TA.RSI(df)\n",
    "df['OBV'] = TA.OBV(df)\n",
    "df.fillna(0, inplace=True)"
   ]
  },
  {
   "cell_type": "code",
   "execution_count": null,
   "id": "880378cc-b0a1-40e0-b3a0-984f5cf23182",
   "metadata": {},
   "outputs": [],
   "source": [
    "df_temp = df[[\"SMA\", \"RSI\"]]\n",
    "df_temp.plot()\n",
    "#df.plot()"
   ]
  },
  {
   "cell_type": "markdown",
   "id": "b2552934-a56f-413d-b22c-b56e3b427e58",
   "metadata": {},
   "source": [
    "## 2.1.4. Create New Environments"
   ]
  },
  {
   "cell_type": "code",
   "execution_count": null,
   "id": "e9f75eff-87c1-444e-a7f4-ea88bce03594",
   "metadata": {},
   "outputs": [],
   "source": [
    "def add_signals(env):\n",
    "    start = env.frame_bound[0] - env.window_size\n",
    "    end = env.frame_bound[1]\n",
    "    prices = env.df.loc[:, 'low'].to_numpy()[start:end]\n",
    "    signal_features = env.df.loc[:, ['low','volume','SMA', 'RSI', 'OBV']].to_numpy()[start:end]\n",
    "    #signal_features = env.df.loc[:, ['low','volume','tradecount','MACD', 'SIGNAL']].to_numpy()[start:end]\n",
    "    return prices, signal_features"
   ]
  },
  {
   "cell_type": "code",
   "execution_count": null,
   "id": "ab989ab4-7967-4464-bb66-4d4de063eb34",
   "metadata": {},
   "outputs": [],
   "source": [
    "class MyCustomEnv(MyStocksEnv):\n",
    "    init_data = add_signals\n",
    "    \n",
    "env = MyCustomEnv(df=df, window_size=window_size, frame_bound=(501, nb_data_rows), debug=False)"
   ]
  },
  {
   "cell_type": "code",
   "execution_count": null,
   "id": "56be058c-e955-4270-9f99-a87c10516447",
   "metadata": {},
   "outputs": [],
   "source": [
    "env_maker = lambda: env\n",
    "env = DummyVecEnv([env_maker])"
   ]
  },
  {
   "cell_type": "code",
   "execution_count": null,
   "id": "8b7669a4-9305-4608-9135-8cd5aa5af90f",
   "metadata": {},
   "outputs": [],
   "source": [
    "import os\n",
    "create_new_model = False\n",
    "if create_new_model:\n",
    "    model = A2C('MlpLstmPolicy', env, verbose=1) \n",
    "else:\n",
    "    model_path = os.path.join('SavedModels', 'A2C_TM1_ETH_D_w12_E47')\n",
    "    model = A2C.load(model_path, env)"
   ]
  },
  {
   "cell_type": "code",
   "execution_count": null,
   "id": "f15b8e64-a636-4bb9-bbb8-77a94e04e8b2",
   "metadata": {
    "scrolled": true
   },
   "outputs": [],
   "source": [
    "#model.learn(total_timesteps=100000)"
   ]
  },
  {
   "cell_type": "markdown",
   "id": "0a80f684-2228-44db-a1a9-29a0718b3b34",
   "metadata": {},
   "source": [
    "# 4. Evaluation"
   ]
  },
  {
   "cell_type": "code",
   "execution_count": null,
   "id": "74dec24c-ef40-4cb7-836a-d978f2318133",
   "metadata": {
    "tags": []
   },
   "outputs": [],
   "source": [
    "import logging\n",
    "\n",
    "#env = MyCustomEnv(df=df, window_size=window_size, frame_bound=(501, nb_data_rows), debug=True)\n",
    "envTest = MyCustomEnv(df=df, window_size=window_size, frame_bound=(400, nb_data_rows), debug=True, log_level=logging.DEBUG)\n",
    "obs = envTest.reset()\n",
    "while True: \n",
    "    obs = obs[np.newaxis, ...]\n",
    "    action, _states = model.predict(obs)\n",
    "    obs, rewards, done, info = envTest.step(action)\n",
    "    if done:\n",
    "        print(\"info\", info)\n",
    "        print(\"Performance: {0}\".format(info['performance']))\n",
    "        break"
   ]
  },
  {
   "cell_type": "code",
   "execution_count": null,
   "id": "0c53dedc-5a5f-46ee-828f-8e2bda23a8c0",
   "metadata": {},
   "outputs": [],
   "source": [
    "#plt.cla()\n",
    "envTest.render_all()\n",
    "#plt.figure(figsize=(25,6))\n",
    "#plt.show()"
   ]
  },
  {
   "cell_type": "code",
   "execution_count": null,
   "id": "217c27ab-4d12-49cd-8e18-31a3d6a613e2",
   "metadata": {
    "scrolled": true,
    "tags": []
   },
   "outputs": [],
   "source": [
    "import logging\n",
    "\n",
    "learn = False\n",
    "eval_nb = 10\n",
    "\n",
    "file_name = 'A2C_Trading_Model1_Daily_winsize12_V1'\n",
    "\n",
    "model_path = os.path.join('SavedModels', file_name)\n",
    "\n",
    "episode = 0\n",
    "training_file_name = 'A2C_TM1_ETH_D_w12_'\n",
    "\n",
    "#Training loop\n",
    "while learn:\n",
    "\n",
    "    model = A2C.load(model_path, env)\n",
    "\n",
    "    # train\n",
    "    model.learn(total_timesteps=100000)\n",
    "\n",
    "    # evaluate for eval_nb times, perfomance must be always above 1\n",
    "    perfomance_results = []\n",
    "\n",
    "    envTest = MyCustomEnv(df=df, window_size=window_size, frame_bound=(13, nb_data_rows), debug=True, log_level=logging.DEBUG)\n",
    "    for i in range(0, eval_nb):\n",
    "        obs = envTest.reset()\n",
    "        performance = 1.0\n",
    "        print(\"Start eval nb. {0}\".format(i))\n",
    "        while True: \n",
    "            obs = obs[np.newaxis, ...]\n",
    "            action, _states = model.predict(obs)\n",
    "            obs, rewards, done, info = envTest.step(action)\n",
    "            if done:\n",
    "                print(\"info\", info)\n",
    "                perfomance_results.append(info['performance'])\n",
    "                break\n",
    "\n",
    "    # check results\n",
    "    print(perfomance_results)\n",
    "    if all(x > 3.0 for x in perfomance_results):\n",
    "        print(\"Yes, mission acomplished!!\")\n",
    "        learn = False\n",
    "    else:\n",
    "        print(\"No, train further\")\n",
    "        \n",
    "    #save model\n",
    "    temp_file_name = \"{0}E{1}\".format(training_file_name, episode)\n",
    "    model_path = os.path.join('SavedModels', temp_file_name)\n",
    "    model.save(model_path)\n",
    "    \n",
    "    episode += 1"
   ]
  },
  {
   "cell_type": "code",
   "execution_count": null,
   "id": "74286b72-ec58-4118-bb25-5b3fd54d3639",
   "metadata": {},
   "outputs": [],
   "source": [
    "import os\n",
    "model_path = os.path.join('SavedModels', 'A2C_Trading_Model1_Daily_winsize12_tempSave')\n",
    "#model.save(model_path)"
   ]
  },
  {
   "cell_type": "code",
   "execution_count": null,
   "id": "5cfd5172-31a8-412e-bf22-cb43e68bf57b",
   "metadata": {},
   "outputs": [],
   "source": [
    "import numpy as np\n",
    "import matplotlib.pyplot as plt\n",
    " \n",
    "in_array = np.linspace(0, 150, 2000)\n",
    "out_array = (np.sin(in_array)*40) + 100\n",
    "\n",
    "np.savetxt(\"foo.csv\", out_array, delimiter=\",\")\n",
    " \n",
    "print(\"in_array : \", in_array)\n",
    "print(\"\\nout_array : \", out_array)\n",
    " \n",
    "# red for numpy.sin()\n",
    "plt.figure(figsize=(25,6))\n",
    "plt.plot(in_array, out_array, color = 'red', marker = \"o\")\n",
    "plt.title(\"numpy.sin()\")\n",
    "plt.xlabel(\"X\")\n",
    "plt.ylabel(\"Y\")\n",
    "plt.show()"
   ]
  },
  {
   "cell_type": "code",
   "execution_count": null,
   "id": "ba0b01fc-a7ce-4b82-b087-0c81adfec222",
   "metadata": {},
   "outputs": [],
   "source": []
  }
 ],
 "metadata": {
  "kernelspec": {
   "display_name": "Python 3 (ipykernel)",
   "language": "python",
   "name": "python3"
  },
  "language_info": {
   "codemirror_mode": {
    "name": "ipython",
    "version": 3
   },
   "file_extension": ".py",
   "mimetype": "text/x-python",
   "name": "python",
   "nbconvert_exporter": "python",
   "pygments_lexer": "ipython3",
   "version": "3.7.11"
  }
 },
 "nbformat": 4,
 "nbformat_minor": 5
}
